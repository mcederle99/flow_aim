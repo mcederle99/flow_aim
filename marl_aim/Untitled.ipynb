{
 "cells": [
  {
   "cell_type": "code",
   "execution_count": 1,
   "id": "83b72b07",
   "metadata": {},
   "outputs": [],
   "source": [
    "import numpy as np"
   ]
  },
  {
   "cell_type": "code",
   "execution_count": 2,
   "id": "96f9a47c",
   "metadata": {},
   "outputs": [],
   "source": [
    "ret = np.load('results/TD3_intersection_0.npy')"
   ]
  },
  {
   "cell_type": "code",
   "execution_count": 4,
   "id": "9c7171c7",
   "metadata": {},
   "outputs": [
    {
     "name": "stdout",
     "output_type": "stream",
     "text": [
      "201\n"
     ]
    }
   ],
   "source": [
    "print(len(ret))"
   ]
  },
  {
   "cell_type": "code",
   "execution_count": 5,
   "id": "9f035bb2",
   "metadata": {},
   "outputs": [],
   "source": [
    "t = np.linspace(0, 201*5000, 201)"
   ]
  },
  {
   "cell_type": "code",
   "execution_count": 7,
   "id": "fba864e9",
   "metadata": {},
   "outputs": [
    {
     "name": "stdout",
     "output_type": "stream",
     "text": [
      "201\n"
     ]
    }
   ],
   "source": [
    "print(len(t))"
   ]
  },
  {
   "cell_type": "code",
   "execution_count": 8,
   "id": "77ae43d8",
   "metadata": {},
   "outputs": [],
   "source": [
    "import matplotlib.pyplot as plt"
   ]
  },
  {
   "cell_type": "code",
   "execution_count": 9,
   "id": "49c3ad7f",
   "metadata": {},
   "outputs": [
    {
     "data": {
      "image/png": "[encoded data removed]",
      "text/plain": [
       "<Figure size 640x480 with 1 Axes>"
      ]
     },
     "metadata": {},
     "output_type": "display_data"
    }
   ],
   "source": [
    "plt.plot(t, ret)\n",
    "plt.show()"
   ]
  },
  {
   "cell_type": "code",
   "execution_count": 10,
   "id": "2c95fed9",
   "metadata": {},
   "outputs": [
    {
     "name": "stdout",
     "output_type": "stream",
     "text": [
      "[   65.40850244    65.40850244    65.40850244    65.40850244\n",
      "    65.40850244    65.40850244    71.74258446    71.74258446\n",
      "    71.74258446    71.74258446    71.74258446    71.74258446\n",
      "    71.74258446    71.74258446    71.74258446    71.74258446\n",
      "    71.74258446    71.74258446    71.74258446    71.74258446\n",
      "    71.74258446    71.74258446    71.74258446    71.74258446\n",
      "    71.74258446    71.74258446    71.74258446    71.74258446\n",
      "    71.74258446    71.74258446    71.74258446    71.74258446\n",
      "    71.74258446    71.74258446    71.74258446 -1000.\n",
      " -1000.         -1000.         -1000.         -1000.\n",
      " -1000.         -1000.         -1000.         -1000.\n",
      " -1000.         -1000.         -1000.         -1000.\n",
      " -1000.         -1000.         -1000.         -1000.\n",
      " -1000.         -1000.         -1000.         -1000.\n",
      " -1000.         -1000.         -1000.         -1000.\n",
      " -1000.         -1000.         -1000.         -1000.\n",
      " -1000.         -1000.         -1000.         -1000.\n",
      " -1000.         -1000.         -1000.         -1000.\n",
      " -1000.         -1000.         -1000.         -1000.\n",
      " -1000.         -1000.         -1000.         -1000.\n",
      " -1000.         -1000.         -1000.         -1000.\n",
      " -1000.         -1000.         -1000.         -1000.\n",
      " -1000.         -1000.         -1000.         -1000.\n",
      " -1000.         -1000.         -1000.         -1000.\n",
      " -1000.         -1000.         -1000.         -1000.\n",
      " -1000.         -1000.         -1000.         -1000.\n",
      " -1000.         -1000.         -1000.         -1000.\n",
      " -1000.         -1000.         -1000.         -1000.\n",
      " -1000.         -1000.         -1000.         -1000.\n",
      " -1000.         -1000.         -1000.         -1000.\n",
      " -1000.         -1000.         -1000.         -1000.\n",
      " -1000.         -1000.         -1000.         -1000.\n",
      " -1000.         -1000.         -1000.         -1000.\n",
      " -1000.         -1000.         -1000.         -1000.\n",
      " -1000.         -1000.         -1000.         -1000.\n",
      " -1000.         -1000.         -1000.         -1000.\n",
      " -1000.         -1000.         -1000.         -1000.\n",
      " -1000.         -1000.         -1000.         -1000.\n",
      " -1000.         -1000.         -1000.         -1000.\n",
      " -1000.         -1000.         -1000.         -1000.\n",
      " -1000.         -1000.         -1000.         -1000.\n",
      " -1000.         -1000.         -1000.         -1000.\n",
      " -1000.         -1000.         -1000.         -1000.\n",
      " -1000.         -1000.         -1000.         -1000.\n",
      " -1000.         -1000.         -1000.         -1000.\n",
      " -1000.         -1000.         -1000.         -1000.\n",
      " -1000.         -1000.         -1000.         -1000.\n",
      " -1000.         -1000.         -1000.         -1000.\n",
      " -1000.         -1000.         -1000.         -1000.\n",
      " -1000.         -1000.         -1000.         -1000.\n",
      " -1000.        ]\n"
     ]
    }
   ],
   "source": [
    "print(ret)"
   ]
  }
 ],
 "metadata": {
  "kernelspec": {
   "display_name": "Python 3 (ipykernel)",
   "language": "python",
   "name": "python3"
  },
  "language_info": {
   "codemirror_mode": {
    "name": "ipython",
    "version": 3
   },
   "file_extension": ".py",
   "mimetype": "text/x-python",
   "name": "python",
   "nbconvert_exporter": "python",
   "pygments_lexer": "ipython3",
   "version": "3.8.10"
  }
 },
 "nbformat": 4,
 "nbformat_minor": 5
}
